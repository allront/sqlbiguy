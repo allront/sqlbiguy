{
 "cells": [
  {
   "cell_type": "code",
   "execution_count": 1,
   "id": "2866945a",
   "metadata": {},
   "outputs": [],
   "source": [
    "import pandas as pd\n",
    "\n",
    "import matplotlib.pyplot as plt\n",
    "import pickle\n",
    "\n",
    "from sklearn.feature_extraction import DictVectorizer\n",
    "from sklearn.linear_model import LinearRegression\n",
    "\n",
    "from sklearn.metrics import mean_squared_error"
   ]
  },
  {
   "cell_type": "code",
   "execution_count": 3,
   "id": "3a637af1",
   "metadata": {},
   "outputs": [],
   "source": [
    "# Reading the training data provided by \n",
    "# https://www1.nyc.gov/site/tlc/about/tlc-trip-record-data.page\n",
    "\n",
    "df = pd.read_parquet('Data/fhv_tripdata_2021-01.parquet')\n"
   ]
  },
  {
   "cell_type": "code",
   "execution_count": 4,
   "id": "863d304d",
   "metadata": {},
   "outputs": [
    {
     "data": {
      "text/plain": [
       "(1154112, 7)"
      ]
     },
     "execution_count": 4,
     "metadata": {},
     "output_type": "execute_result"
    }
   ],
   "source": [
    "# lets review the shape of pandas df\n",
    "\n",
    "df.shape"
   ]
  },
  {
   "cell_type": "code",
   "execution_count": 5,
   "id": "98fee31c",
   "metadata": {},
   "outputs": [
    {
     "data": {
      "text/html": [
       "<div>\n",
       "<style scoped>\n",
       "    .dataframe tbody tr th:only-of-type {\n",
       "        vertical-align: middle;\n",
       "    }\n",
       "\n",
       "    .dataframe tbody tr th {\n",
       "        vertical-align: top;\n",
       "    }\n",
       "\n",
       "    .dataframe thead th {\n",
       "        text-align: right;\n",
       "    }\n",
       "</style>\n",
       "<table border=\"1\" class=\"dataframe\">\n",
       "  <thead>\n",
       "    <tr style=\"text-align: right;\">\n",
       "      <th></th>\n",
       "      <th>dispatching_base_num</th>\n",
       "      <th>pickup_datetime</th>\n",
       "      <th>dropOff_datetime</th>\n",
       "      <th>PUlocationID</th>\n",
       "      <th>DOlocationID</th>\n",
       "      <th>SR_Flag</th>\n",
       "      <th>Affiliated_base_number</th>\n",
       "    </tr>\n",
       "  </thead>\n",
       "  <tbody>\n",
       "    <tr>\n",
       "      <th>0</th>\n",
       "      <td>B00009</td>\n",
       "      <td>2021-01-01 00:27:00</td>\n",
       "      <td>2021-01-01 00:44:00</td>\n",
       "      <td>NaN</td>\n",
       "      <td>NaN</td>\n",
       "      <td>None</td>\n",
       "      <td>B00009</td>\n",
       "    </tr>\n",
       "    <tr>\n",
       "      <th>1</th>\n",
       "      <td>B00009</td>\n",
       "      <td>2021-01-01 00:50:00</td>\n",
       "      <td>2021-01-01 01:07:00</td>\n",
       "      <td>NaN</td>\n",
       "      <td>NaN</td>\n",
       "      <td>None</td>\n",
       "      <td>B00009</td>\n",
       "    </tr>\n",
       "    <tr>\n",
       "      <th>2</th>\n",
       "      <td>B00013</td>\n",
       "      <td>2021-01-01 00:01:00</td>\n",
       "      <td>2021-01-01 01:51:00</td>\n",
       "      <td>NaN</td>\n",
       "      <td>NaN</td>\n",
       "      <td>None</td>\n",
       "      <td>B00013</td>\n",
       "    </tr>\n",
       "    <tr>\n",
       "      <th>3</th>\n",
       "      <td>B00037</td>\n",
       "      <td>2021-01-01 00:13:09</td>\n",
       "      <td>2021-01-01 00:21:26</td>\n",
       "      <td>NaN</td>\n",
       "      <td>72.0</td>\n",
       "      <td>None</td>\n",
       "      <td>B00037</td>\n",
       "    </tr>\n",
       "    <tr>\n",
       "      <th>4</th>\n",
       "      <td>B00037</td>\n",
       "      <td>2021-01-01 00:38:31</td>\n",
       "      <td>2021-01-01 00:53:44</td>\n",
       "      <td>NaN</td>\n",
       "      <td>61.0</td>\n",
       "      <td>None</td>\n",
       "      <td>B00037</td>\n",
       "    </tr>\n",
       "  </tbody>\n",
       "</table>\n",
       "</div>"
      ],
      "text/plain": [
       "  dispatching_base_num     pickup_datetime    dropOff_datetime  PUlocationID  \\\n",
       "0               B00009 2021-01-01 00:27:00 2021-01-01 00:44:00           NaN   \n",
       "1               B00009 2021-01-01 00:50:00 2021-01-01 01:07:00           NaN   \n",
       "2               B00013 2021-01-01 00:01:00 2021-01-01 01:51:00           NaN   \n",
       "3               B00037 2021-01-01 00:13:09 2021-01-01 00:21:26           NaN   \n",
       "4               B00037 2021-01-01 00:38:31 2021-01-01 00:53:44           NaN   \n",
       "\n",
       "   DOlocationID SR_Flag Affiliated_base_number  \n",
       "0           NaN    None                 B00009  \n",
       "1           NaN    None                 B00009  \n",
       "2           NaN    None                 B00013  \n",
       "3          72.0    None                 B00037  \n",
       "4          61.0    None                 B00037  "
      ]
     },
     "execution_count": 5,
     "metadata": {},
     "output_type": "execute_result"
    }
   ],
   "source": [
    "# inspecting first rows of the dataframe\n",
    "df.head()\n"
   ]
  },
  {
   "cell_type": "code",
   "execution_count": 6,
   "id": "2d4b0270",
   "metadata": {},
   "outputs": [],
   "source": [
    "df['dropOff_month'] = df['dropOff_datetime'].dt.month\n",
    "df['pickup_month'] = df['pickup_datetime'].dt.month\n",
    "df['duration'] = (df['dropOff_datetime'] - df['pickup_datetime']).dt.total_seconds()/60"
   ]
  },
  {
   "cell_type": "code",
   "execution_count": 7,
   "id": "0c2b5217",
   "metadata": {},
   "outputs": [
    {
     "data": {
      "text/plain": [
       "'The average trip duration in January is 19.1672240937939'"
      ]
     },
     "execution_count": 7,
     "metadata": {},
     "output_type": "execute_result"
    }
   ],
   "source": [
    "f\"The average trip duration in January is {df['duration'].mean()}\""
   ]
  },
  {
   "cell_type": "code",
   "execution_count": 9,
   "id": "c123d2a1",
   "metadata": {},
   "outputs": [
    {
     "data": {
      "text/plain": [
       "'The fractions of missing values for the pickup location ID is 83.03067639882438'"
      ]
     },
     "execution_count": 9,
     "metadata": {},
     "output_type": "execute_result"
    }
   ],
   "source": [
    "null_df = (100 * df.isna().sum()) / df.shape[0]\n",
    "f\"The fractions of missing values for the pickup location ID is {null_df['PUlocationID']}\""
   ]
  },
  {
   "cell_type": "code",
   "execution_count": 13,
   "id": "09db15de",
   "metadata": {},
   "outputs": [],
   "source": [
    "# helper function\n",
    "def prepare_data(df, train=True, model=None):\n",
    "    print(f'Total records are {df.shape[0]}')\n",
    "    \n",
    "    df['dropOff_month'] = df['dropOff_datetime'].dt.month\n",
    "    df['pickup_month'] = df['pickup_datetime'].dt.month\n",
    "    df['duration'] = (df['dropOff_datetime'] - df['pickup_datetime']).dt.total_seconds()/60\n",
    "    \n",
    "    print(f\"The average trip duration in January is {df['duration'].mean()}\")\n",
    "    \n",
    "    duration_filter = (df['duration']>=1) & (df['duration'] <=60)\n",
    "    print(f'Total records dropped are {df.shape[0] - df[duration_filter].shape[0]}')\n",
    "    \n",
    "    df = df[duration_filter].copy()  \n",
    "    \n",
    "    df[['PUlocationID', 'DOlocationID']] = df[['PUlocationID', 'DOlocationID']].fillna(-1)\n",
    "    \n",
    "    categorical = ['PUlocationID', 'DOlocationID']\n",
    "    numerical = ['duration']\n",
    "\n",
    "    df[categorical] = df[categorical].astype(str)\n",
    "    \n",
    "    train_dicts = df[categorical ].to_dict(orient='records')\n",
    "    \n",
    "    if train:\n",
    "        dv = DictVectorizer()\n",
    "        dv_matrix = dv.fit_transform(train_dicts)\n",
    "    \n",
    "        print(f'The dimensionality of this matrix is {dv_matrix.shape[1]}')\n",
    "        \n",
    "        return dv, dv_matrix, df['duration'].values\n",
    "    \n",
    "    else:\n",
    "        dv_matrix = model.transform(train_dicts)\n",
    "        \n",
    "        return dv_matrix, df['duration'].values"
   ]
  },
  {
   "cell_type": "code",
   "execution_count": 14,
   "id": "94a82b77",
   "metadata": {},
   "outputs": [
    {
     "name": "stdout",
     "output_type": "stream",
     "text": [
      "Total records are 1154112\n",
      "The average trip duration in January is 19.1672240937939\n",
      "Total records dropped are 44286\n",
      "The dimensionality of this matrix is 525\n"
     ]
    }
   ],
   "source": [
    "# run data preparation\n",
    "\n",
    "dvmodel, dv_matrix, y_train = prepare_data(df, train=True)"
   ]
  },
  {
   "cell_type": "code",
   "execution_count": 15,
   "id": "502a57db",
   "metadata": {},
   "outputs": [
    {
     "data": {
      "text/plain": [
       "LinearRegression()"
      ]
     },
     "execution_count": 15,
     "metadata": {},
     "output_type": "execute_result"
    }
   ],
   "source": [
    "# model fit\n",
    "\n",
    "lr = LinearRegression()\n",
    "lr.fit(dv_matrix, y_train)"
   ]
  },
  {
   "cell_type": "code",
   "execution_count": 16,
   "id": "30e33750",
   "metadata": {},
   "outputs": [
    {
     "data": {
      "text/plain": [
       "10.528519107212672"
      ]
     },
     "execution_count": 16,
     "metadata": {},
     "output_type": "execute_result"
    }
   ],
   "source": [
    "# model predicting on the test data\n",
    "\n",
    "y_pred = lr.predict(dv_matrix)\n",
    "mean_squared_error(y_train, y_pred, squared=False)"
   ]
  },
  {
   "cell_type": "code",
   "execution_count": 17,
   "id": "b16c9621",
   "metadata": {},
   "outputs": [],
   "source": [
    "# reading the validation dataset\n",
    "\n",
    "valid_data = pd.read_parquet('Data/fhv_tripdata_2021-02.parquet')"
   ]
  },
  {
   "cell_type": "code",
   "execution_count": 18,
   "id": "d8973053",
   "metadata": {},
   "outputs": [
    {
     "name": "stdout",
     "output_type": "stream",
     "text": [
      "Total records are 1037692\n",
      "The average trip duration in January is 20.70698622520125\n",
      "Total records dropped are 47579\n"
     ]
    }
   ],
   "source": [
    "# model evaluation the the validation dataset\n",
    "\n",
    "valid_dv_matrix, y_valid = prepare_data(valid_data, train=False, model=dvmodel)"
   ]
  },
  {
   "cell_type": "code",
   "execution_count": null,
   "id": "7a9cc53c",
   "metadata": {},
   "outputs": [],
   "source": []
  }
 ],
 "metadata": {
  "kernelspec": {
   "display_name": "Python 3 (ipykernel)",
   "language": "python",
   "name": "python3"
  },
  "language_info": {
   "codemirror_mode": {
    "name": "ipython",
    "version": 3
   },
   "file_extension": ".py",
   "mimetype": "text/x-python",
   "name": "python",
   "nbconvert_exporter": "python",
   "pygments_lexer": "ipython3",
   "version": "3.9.7"
  }
 },
 "nbformat": 4,
 "nbformat_minor": 5
}
